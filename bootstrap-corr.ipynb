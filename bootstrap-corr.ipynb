{
 "cells": [
  {
   "cell_type": "markdown",
   "metadata": {},
   "source": [
    "# Bootstrapping \n",
    "\n",
    "This notebook explores some simple example of bootstrapping statistical estimates, primarily around computing confidence estimates. \n",
    "\n",
    "By `bootstrapping` we mean random resampling, with replacement, to estimate sample distributions. \n",
    "\n",
    "Wiki: https://en.wikipedia.org/wiki/Bootstrapping_(statistics)"
   ]
  },
  {
   "cell_type": "code",
   "execution_count": 1,
   "metadata": {},
   "outputs": [],
   "source": [
    "%matplotlib inline\n",
    "\n",
    "import numpy as np\n",
    "import matplotlib.pyplot as plt\n",
    "from scipy.stats import spearmanr\n",
    "\n",
    "from bootstrap import *"
   ]
  },
  {
   "cell_type": "markdown",
   "metadata": {},
   "source": [
    "## Bootstrapped Confidence Intervals\n",
    "\n",
    "Confidence Intervals indicate the range of plausible values for an estimated value. \n",
    "\n",
    "Confidence Intervals: https://en.wikipedia.org/wiki/Confidence_interval"
   ]
  },
  {
   "cell_type": "code",
   "execution_count": 2,
   "metadata": {},
   "outputs": [],
   "source": [
    "# Settings for simulated data\n",
    "n = 1000\n",
    "corr_val = 0.75\n",
    "covs = [[1, corr_val], [corr_val, 1]]\n",
    "means = [0, 0]\n",
    "\n",
    "# Generate the data\n",
    "x, y = np.random.multivariate_normal(means, covs, n).T"
   ]
  },
  {
   "cell_type": "code",
   "execution_count": 3,
   "metadata": {},
   "outputs": [],
   "source": [
    "## Bootstrap settings \n",
    "\n",
    "# Set which correlation function to use\n",
    "corr_func = spearmanr\n",
    "\n",
    "# Set the alpha level\n",
    "alpha = 0.05\n",
    "\n",
    "# Set the number of resamples to perform in the bootstrapping\n",
    "n_samples = 5000"
   ]
  },
  {
   "cell_type": "code",
   "execution_count": 4,
   "metadata": {},
   "outputs": [
    {
     "name": "stdout",
     "output_type": "stream",
     "text": [
      "R-val: 0.7347 \t p-val: 0.0000\n"
     ]
    }
   ],
   "source": [
    "# Calculate the estimated correlation between the data\n",
    "r, p = corr_func(x, y)\n",
    "print('R-val: {:1.4f} \\t p-val: {:1.4f}'.format(r, p))"
   ]
  },
  {
   "cell_type": "code",
   "execution_count": 5,
   "metadata": {},
   "outputs": [],
   "source": [
    "# Resample bootstraps\n",
    "bootstrap_x, bootstrap_y = sample_bootstrap(n_samples, x, y)\n",
    "\n",
    "# Compute estimates across resamples\n",
    "estimates = compute_bootstrap_estimates(bootstrap_x, bootstrap_y, corr_func)\n",
    "    \n",
    "# Compute confidence intervals from bootstrapped distribution\n",
    "cis = compute_cis(estimates, alpha)"
   ]
  },
  {
   "cell_type": "code",
   "execution_count": 6,
   "metadata": {},
   "outputs": [
    {
     "name": "stdout",
     "output_type": "stream",
     "text": [
      "Computed confidence interval: [0.7008, 0.7646]\n"
     ]
    }
   ],
   "source": [
    "# Check the computed confidence interval\n",
    "print('Computed confidence interval: [{:1.4f}, {:1.4f}]'.format(*cis))"
   ]
  },
  {
   "cell_type": "markdown",
   "metadata": {},
   "source": [
    "We can plot our bootstrapped distribution of estimates. \n",
    "\n",
    "In the plot below, the dashed black line is the mean of the distribution, and the red lines are the computed confidence intervals. "
   ]
  },
  {
   "cell_type": "code",
   "execution_count": 7,
   "metadata": {},
   "outputs": [
    {
     "data": {
      "image/png": "[encoded data removed]",
      "text/plain": [
       "<Figure size 432x288 with 1 Axes>"
      ]
     },
     "metadata": {
      "needs_background": "light"
     },
     "output_type": "display_data"
    }
   ],
   "source": [
    "# Plot the bootstrapped distribution of correlation values\n",
    "plot_bootstrap(estimates, cis)"
   ]
  },
  {
   "cell_type": "markdown",
   "metadata": {},
   "source": [
    "### Analytic Confidence Intervals\n",
    "\n",
    "Note that for correlations, there can be analytically computed confidence intervals. \n",
    "\n",
    "The module `pingouin` computes these, which we can compare to our bootstrapped estimates."
   ]
  },
  {
   "cell_type": "code",
   "execution_count": 8,
   "metadata": {},
   "outputs": [],
   "source": [
    "from pingouin import corr"
   ]
  },
  {
   "cell_type": "code",
   "execution_count": 9,
   "metadata": {},
   "outputs": [
    {
     "data": {
      "text/html": [
       "<div>\n",
       "<style scoped>\n",
       "    .dataframe tbody tr th:only-of-type {\n",
       "        vertical-align: middle;\n",
       "    }\n",
       "\n",
       "    .dataframe tbody tr th {\n",
       "        vertical-align: top;\n",
       "    }\n",
       "\n",
       "    .dataframe thead th {\n",
       "        text-align: right;\n",
       "    }\n",
       "</style>\n",
       "<table border=\"1\" class=\"dataframe\">\n",
       "  <thead>\n",
       "    <tr style=\"text-align: right;\">\n",
       "      <th></th>\n",
       "      <th>n</th>\n",
       "      <th>r</th>\n",
       "      <th>CI95%</th>\n",
       "      <th>r2</th>\n",
       "      <th>adj_r2</th>\n",
       "      <th>p-val</th>\n",
       "      <th>power</th>\n",
       "    </tr>\n",
       "  </thead>\n",
       "  <tbody>\n",
       "    <tr>\n",
       "      <th>spearman</th>\n",
       "      <td>1000</td>\n",
       "      <td>0.734696</td>\n",
       "      <td>[0.7, 0.76]</td>\n",
       "      <td>0.539779</td>\n",
       "      <td>0.538855</td>\n",
       "      <td>2.271241e-170</td>\n",
       "      <td>1.0</td>\n",
       "    </tr>\n",
       "  </tbody>\n",
       "</table>\n",
       "</div>"
      ],
      "text/plain": [
       "             n         r        CI95%        r2    adj_r2          p-val  \\\n",
       "spearman  1000  0.734696  [0.7, 0.76]  0.539779  0.538855  2.271241e-170   \n",
       "\n",
       "          power  \n",
       "spearman    1.0  "
      ]
     },
     "execution_count": 9,
     "metadata": {},
     "output_type": "execute_result"
    }
   ],
   "source": [
    "out = corr(x, y, method='spearman')\n",
    "out"
   ]
  },
  {
   "cell_type": "code",
   "execution_count": 10,
   "metadata": {},
   "outputs": [
    {
     "data": {
      "text/plain": [
       "spearman    [0.7, 0.76]\n",
       "Name: CI95%, dtype: object"
      ]
     },
     "execution_count": 10,
     "metadata": {},
     "output_type": "execute_result"
    }
   ],
   "source": [
    "out['CI95%']"
   ]
  },
  {
   "cell_type": "markdown",
   "metadata": {},
   "source": [
    "## Bootstrapping a Difference Measure\n",
    "\n",
    "Next we'll consider the case of bootstrapping the difference between two measures. \n",
    "\n",
    "This could be done for many different estimates (for example, differences in group means). \n",
    "\n",
    "Here we test the difference in measured correlation values. \n",
    "\n",
    "Specifically, given data arrays A, B, C, we can to ask if there is a difference in the correlation values between AB & AC. "
   ]
  },
  {
   "cell_type": "code",
   "execution_count": 11,
   "metadata": {},
   "outputs": [],
   "source": [
    "# Settings for simulated data\n",
    "n = 5000\n",
    "means = [0, 0, 0]\n",
    "\n",
    "corr_ab = 0.50\n",
    "corr_ac = 0.55\n",
    "corr_bc = 0.75\n",
    "\n",
    "covs = [[1, corr_ab, corr_ac],\n",
    "        [corr_ab, 1, corr_bc],\n",
    "        [corr_ac, corr_bc, 1]]"
   ]
  },
  {
   "cell_type": "code",
   "execution_count": 12,
   "metadata": {},
   "outputs": [],
   "source": [
    "# Simulate arrays of data with correlations between them\n",
    "a, b, c = np.random.multivariate_normal(means, covs, n).T"
   ]
  },
  {
   "cell_type": "code",
   "execution_count": 13,
   "metadata": {},
   "outputs": [
    {
     "name": "stdout",
     "output_type": "stream",
     "text": [
      "Corr AB: 0.4838, 0.0000\n",
      "Corr AC: 0.5138, 0.0000\n",
      "Corr BC: 0.7359, 0.0000\n"
     ]
    }
   ],
   "source": [
    "# Calculate corr values between each array\n",
    "r_ab, p_ab = corr_func(a, b)\n",
    "r_ac, p_ac = corr_func(a, c)\n",
    "r_bc, p_bc = corr_func(b, c)\n",
    "\n",
    "print('Corr AB: {:1.4f}, {:1.4f}'.format(r_ab, p_ab))\n",
    "print('Corr AC: {:1.4f}, {:1.4f}'.format(r_ac, p_ac))\n",
    "print('Corr BC: {:1.4f}, {:1.4f}'.format(r_bc, p_bc))"
   ]
  },
  {
   "cell_type": "code",
   "execution_count": 14,
   "metadata": {},
   "outputs": [
    {
     "name": "stdout",
     "output_type": "stream",
     "text": [
      "Measured difference in correlation: -0.0299\n"
     ]
    }
   ],
   "source": [
    "# Calculate the difference of correlation of interest\n",
    "r_diff = r_ab - r_ac\n",
    "print('Measured difference in correlation: {:1.4f}'.format(r_diff))"
   ]
  },
  {
   "cell_type": "markdown",
   "metadata": {},
   "source": [
    "We have measured the difference in correlations. \n",
    "\n",
    "However, there is no obvious way, from this measure, to know if it represents a meaningful difference. \n",
    "\n",
    "To ask that question, we will bootstrap a distribution of difference measures. "
   ]
  },
  {
   "cell_type": "code",
   "execution_count": 15,
   "metadata": {},
   "outputs": [],
   "source": [
    "# Sample bootstraps\n",
    "bootstrap_a, bootstrap_b, bootstrap_c = sample_bootstrap(n_samples, a, b, c)"
   ]
  },
  {
   "cell_type": "code",
   "execution_count": 16,
   "metadata": {},
   "outputs": [],
   "source": [
    "# Compute estimates\n",
    "corrs_ab = compute_bootstrap_estimates(bootstrap_a, bootstrap_b, corr_func)\n",
    "corrs_ac = compute_bootstrap_estimates(bootstrap_a, bootstrap_c, corr_func)"
   ]
  },
  {
   "cell_type": "code",
   "execution_count": 17,
   "metadata": {},
   "outputs": [],
   "source": [
    "# Calculate differences across all the estimates\n",
    "diffs = corrs_ab - corrs_ac"
   ]
  },
  {
   "cell_type": "code",
   "execution_count": 18,
   "metadata": {},
   "outputs": [],
   "source": [
    "# Calculate the confidence intervals of the difference measure\n",
    "cis = compute_cis(diffs, alpha)"
   ]
  },
  {
   "cell_type": "code",
   "execution_count": 19,
   "metadata": {},
   "outputs": [
    {
     "data": {
      "image/png": "[encoded data removed]",
      "text/plain": [
       "<Figure size 432x288 with 1 Axes>"
      ]
     },
     "metadata": {
      "needs_background": "light"
     },
     "output_type": "display_data"
    }
   ],
   "source": [
    "# Plot the distribution of calculated difference estimates\n",
    "plot_bootstrap(diffs, cis)"
   ]
  },
  {
   "cell_type": "markdown",
   "metadata": {},
   "source": [
    "Now that we have a distribution of difference measures, we can measure our level of confidence in the measured difference, and the range of plausible values. \n",
    "\n",
    "Since we have a distribution of difference measures, we can also compute an empirical p-value. \n",
    "\n",
    "This can test against a null hypothesis, for example, if the difference significantly different from 0. "
   ]
  },
  {
   "cell_type": "code",
   "execution_count": 20,
   "metadata": {},
   "outputs": [
    {
     "name": "stdout",
     "output_type": "stream",
     "text": [
      "0.0016000000000000458\n"
     ]
    }
   ],
   "source": [
    "# Check the estimate p value of the difference\n",
    "#   This test against null hypothesis of 0 difference\n",
    "p_val = compute_pvalue(diffs)\n",
    "print(p_val)"
   ]
  },
  {
   "cell_type": "markdown",
   "metadata": {},
   "source": [
    "### Analytic Confidence Intervals\n",
    "\n",
    "Note that there is also an analytic solution to comparing differences of correlations: Steiger's test."
   ]
  }
 ],
 "metadata": {
  "kernelspec": {
   "display_name": "Python 3",
   "language": "python",
   "name": "python3"
  },
  "language_info": {
   "codemirror_mode": {
    "name": "ipython",
    "version": 3
   },
   "file_extension": ".py",
   "mimetype": "text/x-python",
   "name": "python",
   "nbconvert_exporter": "python",
   "pygments_lexer": "ipython3",
   "version": "3.7.4"
  }
 },
 "nbformat": 4,
 "nbformat_minor": 2
}
