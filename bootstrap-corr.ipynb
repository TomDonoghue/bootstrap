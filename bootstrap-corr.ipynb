{
 "cells": [
  {
   "cell_type": "markdown",
   "metadata": {},
   "source": [
    "# Confidence Intervals"
   ]
  },
  {
   "cell_type": "code",
   "execution_count": 1,
   "metadata": {},
   "outputs": [],
   "source": [
    "%matplotlib inline\n",
    "\n",
    "import numpy as np\n",
    "import matplotlib.pyplot as plt\n",
    "from scipy.stats import spearmanr\n",
    "\n",
    "from bootstrap import *"
   ]
  },
  {
   "cell_type": "markdown",
   "metadata": {},
   "source": [
    "## Bootstrapped CIs"
   ]
  },
  {
   "cell_type": "markdown",
   "metadata": {},
   "source": [
    "note: adapted from\n",
    "https://github.com/XiangwenWang/correlation/blob/master/correlation.py"
   ]
  },
  {
   "cell_type": "code",
   "execution_count": 2,
   "metadata": {},
   "outputs": [],
   "source": [
    "# Settings for simulated data\n",
    "n = 1000\n",
    "corr_val = 0.75\n",
    "covs = [[1, corr_val], [corr_val, 1]]\n",
    "means = [0, 0]\n",
    "\n",
    "# Generate the data\n",
    "x, y = np.random.multivariate_normal(means, covs, n).T"
   ]
  },
  {
   "cell_type": "code",
   "execution_count": 3,
   "metadata": {},
   "outputs": [],
   "source": [
    "# Bootstrap settings\n",
    "corr_func = spearmanr\n",
    "alpha = 0.05\n",
    "n_samples = 5000"
   ]
  },
  {
   "cell_type": "code",
   "execution_count": 4,
   "metadata": {},
   "outputs": [
    {
     "name": "stdout",
     "output_type": "stream",
     "text": [
      "0.7485829485829486 2.661269991587273e-180\n"
     ]
    }
   ],
   "source": [
    "# Calculate the estimated correlation between the data\n",
    "r, p = corr_func(x, y)\n",
    "print(r, p)"
   ]
  },
  {
   "cell_type": "code",
   "execution_count": 5,
   "metadata": {},
   "outputs": [],
   "source": [
    "# Resample bootstraps\n",
    "bootstrap_x, bootstrap_y = sample_bootstrap(n_samples, x, y)\n",
    "\n",
    "# Compute estimates across resamples\n",
    "estimates = compute_bootstrap_estimates(bootstrap_x, bootstrap_y, corr_func)\n",
    "    \n",
    "# Compute confidence intervals from bootstrapped distribution\n",
    "cis = compute_cis(estimates, alpha)"
   ]
  },
  {
   "cell_type": "code",
   "execution_count": 6,
   "metadata": {},
   "outputs": [
    {
     "name": "stdout",
     "output_type": "stream",
     "text": [
      "(0.7180184904560089, 0.776265351003121)\n"
     ]
    }
   ],
   "source": [
    "print(cis)"
   ]
  },
  {
   "cell_type": "code",
   "execution_count": 7,
   "metadata": {},
   "outputs": [
    {
     "data": {
      "image/png": "[encoded data removed]",
      "text/plain": [
       "<Figure size 432x288 with 1 Axes>"
      ]
     },
     "metadata": {
      "needs_background": "light"
     },
     "output_type": "display_data"
    }
   ],
   "source": [
    "plot_bootstrap(estimates, cis)"
   ]
  },
  {
   "cell_type": "markdown",
   "metadata": {},
   "source": [
    "### Analytic CI's\n",
    "\n",
    "Steiger's test."
   ]
  },
  {
   "cell_type": "code",
   "execution_count": 8,
   "metadata": {},
   "outputs": [],
   "source": [
    "from pingouin import corr"
   ]
  },
  {
   "cell_type": "code",
   "execution_count": 9,
   "metadata": {},
   "outputs": [
    {
     "data": {
      "text/html": [
       "<div>\n",
       "<style scoped>\n",
       "    .dataframe tbody tr th:only-of-type {\n",
       "        vertical-align: middle;\n",
       "    }\n",
       "\n",
       "    .dataframe tbody tr th {\n",
       "        vertical-align: top;\n",
       "    }\n",
       "\n",
       "    .dataframe thead th {\n",
       "        text-align: right;\n",
       "    }\n",
       "</style>\n",
       "<table border=\"1\" class=\"dataframe\">\n",
       "  <thead>\n",
       "    <tr style=\"text-align: right;\">\n",
       "      <th></th>\n",
       "      <th>n</th>\n",
       "      <th>r</th>\n",
       "      <th>CI95%</th>\n",
       "      <th>r2</th>\n",
       "      <th>adj_r2</th>\n",
       "      <th>p-val</th>\n",
       "      <th>power</th>\n",
       "    </tr>\n",
       "  </thead>\n",
       "  <tbody>\n",
       "    <tr>\n",
       "      <th>spearman</th>\n",
       "      <td>1000</td>\n",
       "      <td>0.748583</td>\n",
       "      <td>[0.72, 0.77]</td>\n",
       "      <td>0.560376</td>\n",
       "      <td>0.559495</td>\n",
       "      <td>2.661270e-180</td>\n",
       "      <td>1.0</td>\n",
       "    </tr>\n",
       "  </tbody>\n",
       "</table>\n",
       "</div>"
      ],
      "text/plain": [
       "             n         r         CI95%        r2    adj_r2          p-val  \\\n",
       "spearman  1000  0.748583  [0.72, 0.77]  0.560376  0.559495  2.661270e-180   \n",
       "\n",
       "          power  \n",
       "spearman    1.0  "
      ]
     },
     "execution_count": 9,
     "metadata": {},
     "output_type": "execute_result"
    }
   ],
   "source": [
    "out = corr(x, y, method='spearman')\n",
    "out"
   ]
  },
  {
   "cell_type": "code",
   "execution_count": 10,
   "metadata": {},
   "outputs": [],
   "source": [
    "out = corr(x, y, method='pearson')"
   ]
  },
  {
   "cell_type": "code",
   "execution_count": 11,
   "metadata": {},
   "outputs": [
    {
     "data": {
      "text/plain": [
       "pearson    [0.72, 0.78]\n",
       "Name: CI95%, dtype: object"
      ]
     },
     "execution_count": 11,
     "metadata": {},
     "output_type": "execute_result"
    }
   ],
   "source": [
    "out['CI95%']"
   ]
  },
  {
   "cell_type": "markdown",
   "metadata": {},
   "source": [
    "## CI's of a Difference Measure\n",
    "\n",
    "Case: test difference in correlation between AB & AC."
   ]
  },
  {
   "cell_type": "code",
   "execution_count": 12,
   "metadata": {},
   "outputs": [],
   "source": [
    "# Settings for simulated data\n",
    "n = 5000\n",
    "means = [0, 0, 0]\n",
    "\n",
    "corr_ab = 0.50\n",
    "corr_ac = 0.55\n",
    "corr_bc = 0.75\n",
    "\n",
    "covs = [[1, corr_ab, corr_ac],\n",
    "        [corr_ab, 1, corr_bc],\n",
    "        [corr_ac, corr_bc, 1]]"
   ]
  },
  {
   "cell_type": "code",
   "execution_count": 13,
   "metadata": {},
   "outputs": [],
   "source": [
    "# Simulate arrays of data with correlations between them\n",
    "a, b, c = np.random.multivariate_normal(means, covs, n).T"
   ]
  },
  {
   "cell_type": "code",
   "execution_count": 14,
   "metadata": {},
   "outputs": [
    {
     "name": "stdout",
     "output_type": "stream",
     "text": [
      "Corr AB: 0.4751, 0.0000\n",
      "Corr AC: 0.5317, 0.0000\n",
      "Corr BC: 0.7342, 0.0000\n"
     ]
    }
   ],
   "source": [
    "# Calculate corr values between each array\n",
    "r_ab, p_ab = corr_func(a, b)\n",
    "r_ac, p_ac = corr_func(a, c)\n",
    "r_bc, p_bc = corr_func(b, c)\n",
    "\n",
    "print('Corr AB: {:1.4f}, {:1.4f}'.format(r_ab, p_ab))\n",
    "print('Corr AC: {:1.4f}, {:1.4f}'.format(r_ac, p_ac))\n",
    "print('Corr BC: {:1.4f}, {:1.4f}'.format(r_bc, p_bc))"
   ]
  },
  {
   "cell_type": "code",
   "execution_count": 15,
   "metadata": {},
   "outputs": [
    {
     "name": "stdout",
     "output_type": "stream",
     "text": [
      "-0.056522249236889976\n"
     ]
    }
   ],
   "source": [
    "# Calculate the difference of correlation of interest\n",
    "r_diff = r_ab - r_ac\n",
    "print(r_diff)"
   ]
  },
  {
   "cell_type": "code",
   "execution_count": 16,
   "metadata": {},
   "outputs": [],
   "source": [
    "# Sample bootstraps\n",
    "bootstrap_a, bootstrap_b, bootstrap_c = sample_bootstrap(n_samples, a, b, c)"
   ]
  },
  {
   "cell_type": "code",
   "execution_count": 17,
   "metadata": {},
   "outputs": [],
   "source": [
    "# Compute estimates\n",
    "corrs_ab = compute_bootstrap_estimates(bootstrap_a, bootstrap_b, corr_func)\n",
    "corrs_ac = compute_bootstrap_estimates(bootstrap_a, bootstrap_c, corr_func)"
   ]
  },
  {
   "cell_type": "code",
   "execution_count": 18,
   "metadata": {},
   "outputs": [],
   "source": [
    "# Calculate diffs\n",
    "diffs = corrs_ab - corrs_ac"
   ]
  },
  {
   "cell_type": "code",
   "execution_count": 19,
   "metadata": {},
   "outputs": [],
   "source": [
    "# Calculate the confidence intervals of the difference measure\n",
    "cis = compute_cis(diffs, alpha)"
   ]
  },
  {
   "cell_type": "code",
   "execution_count": 20,
   "metadata": {},
   "outputs": [
    {
     "data": {
      "image/png": "[encoded data removed]",
      "text/plain": [
       "<Figure size 432x288 with 1 Axes>"
      ]
     },
     "metadata": {
      "needs_background": "light"
     },
     "output_type": "display_data"
    }
   ],
   "source": [
    "# Plot the distribution of calculated difference estimates\n",
    "plot_bootstrap(diffs, cis)"
   ]
  },
  {
   "cell_type": "code",
   "execution_count": 21,
   "metadata": {},
   "outputs": [
    {
     "name": "stdout",
     "output_type": "stream",
     "text": [
      "0.0\n"
     ]
    }
   ],
   "source": [
    "# Check the estimate p value of the difference\n",
    "#   This test against null hypothesis of 0 difference\n",
    "p_val = compute_pvalue(diffs)\n",
    "print(p_val)"
   ]
  }
 ],
 "metadata": {
  "kernelspec": {
   "display_name": "Python 3",
   "language": "python",
   "name": "python3"
  },
  "language_info": {
   "codemirror_mode": {
    "name": "ipython",
    "version": 3
   },
   "file_extension": ".py",
   "mimetype": "text/x-python",
   "name": "python",
   "nbconvert_exporter": "python",
   "pygments_lexer": "ipython3",
   "version": "3.7.4"
  }
 },
 "nbformat": 4,
 "nbformat_minor": 2
}
